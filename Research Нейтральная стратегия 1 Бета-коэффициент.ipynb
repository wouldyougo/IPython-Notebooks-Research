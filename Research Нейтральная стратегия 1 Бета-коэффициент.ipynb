{
 "cells": [
  {
   "cell_type": "raw",
   "metadata": {},
   "source": [
    "Статистика"
   ]
  },
  {
   "cell_type": "markdown",
   "metadata": {},
   "source": [
    "https://ru.wikipedia.org/wiki/Дисперсия_случайной_величины"
   ]
  },
  {
   "cell_type": "markdown",
   "metadata": {},
   "source": [
    "https://ru.wikipedia.org/wiki/Среднеквадратическое_отклонение"
   ]
  },
  {
   "cell_type": "markdown",
   "metadata": {},
   "source": [
    "https://ru.wikipedia.org/wiki/Стандартная_ошибка"
   ]
  },
  {
   "cell_type": "markdown",
   "metadata": {},
   "source": [
    "https://ru.wikipedia.org/wiki/Выборочная_дисперсия"
   ]
  },
  {
   "cell_type": "markdown",
   "metadata": {},
   "source": [
    "https://ru.wikipedia.org/wiki/Выборочные_моменты"
   ]
  },
  {
   "cell_type": "markdown",
   "metadata": {},
   "source": [
    "https://ru.wikipedia.org/wiki/Выборочное_среднее"
   ]
  },
  {
   "cell_type": "markdown",
   "metadata": {},
   "source": [
    "https://ru.wikipedia.org/wiki/Корреляция"
   ]
  },
  {
   "cell_type": "markdown",
   "metadata": {},
   "source": [
    "https://ru.wikipedia.org/wiki/Взаимнокорреляционная_функция"
   ]
  },
  {
   "cell_type": "markdown",
   "metadata": {},
   "source": [
    "http://en.wikipedia.org/wiki/Autocorrelation"
   ]
  },
  {
   "cell_type": "markdown",
   "metadata": {},
   "source": [
    "https://ru.wikipedia.org/wiki/Ковариация"
   ]
  },
  {
   "cell_type": "raw",
   "metadata": {},
   "source": [
    "Рыночно-нейтральная стратегия"
   ]
  },
  {
   "cell_type": "markdown",
   "metadata": {},
   "source": [
    "https://ru.wikipedia.org/wiki/Линейная_регрессия"
   ]
  },
  {
   "cell_type": "markdown",
   "metadata": {},
   "source": [
    "https://ru.wikipedia.org/wiki/Бета-коэффициент"
   ]
  },
  {
   "cell_type": "markdown",
   "metadata": {},
   "source": [
    "https://ru.wikipedia.org/wiki/Парный_трейдинг"
   ]
  },
  {
   "cell_type": "markdown",
   "metadata": {},
   "source": [
    "https://ru.wikipedia.org/wiki/Бета-нейтральный_портфель"
   ]
  },
  {
   "cell_type": "markdown",
   "metadata": {},
   "source": [
    "https://ru.wikipedia.org/wiki/Коэффициент_Шарпа"
   ]
  },
  {
   "cell_type": "markdown",
   "metadata": {},
   "source": [
    "https://ru.wikipedia.org/wiki/Персональный_композитный_инструмент"
   ]
  },
  {
   "cell_type": "markdown",
   "metadata": {},
   "source": [
    "https://ru.wikipedia.org/wiki/Доходность"
   ]
  },
  {
   "cell_type": "markdown",
   "metadata": {},
   "source": [
    "#####Доходность\n",
    "Доходность часто можно оценить как отношение абсолютной величины дохода к некоторой базе, которая представляет, обычно, сумму первоначальных вложений или вложений, которые необходимо осуществить для получения этого дохода.\n",
    "\n",
    "$r=\\frac{V_e-V_b}{V_b}$\n",
    "\n",
    "    Где:\n",
    "    r — доходность;\n",
    "    Ve — конечная стоимость финансового актива;\n",
    "    Vb — исходная стоимость финансового актива. "
   ]
  },
  {
   "cell_type": "markdown",
   "metadata": {},
   "source": [
    "###Бета-коэффициент\n",
    "Бета-коэффициент (бета-фактор) — показатель, рассчитываемый для ценной бумаги или портфеля ценных бумаг. Является мерой рыночного риска, отражая изменчивость доходности ценной бумаги (портфеля) по отношению к доходности другого портфеля, в роли которого часто выступает среднерыночный портфель.\n",
    "Расчёт коэффициента\n",
    "\n",
    "Коэффициент Бета для актива в составе портфеля ценных бумаг, или актива (портфеля) относительно рынка (эталонного портфеля в форме фондового индекса, иного аналогичного по характеристикам показателя или реального другого портфеля) является коэффициентом $\\beta_a$ в линейной регрессии доходности актива за период $r_{a,t}$ относительно доходности рыночного портфеля за период $r_{p,t}$\n",
    "\n",
    "   $r_{a,t} = \\alpha + \\beta_a r_{p,t} + \\varepsilon_t$.\n",
    "   \n",
    "    Где:\n",
    "    ra — доходность ценной бумаги;\n",
    "    rI — доходность рыночного индекса;\n",
    "    βiI — коэффициент наклона (Бета-коэффициент);\n",
    "    αiI — коэффициент смещения (Альфа-коэффициент);\n",
    "    εiI — случайная погрешность. \n",
    "\n",
    "В соответствии с формулами расчёта линейной регрессии, является отношением ковариации рассматриваемых доходностей к дисперсии доходности эталонного портфеля или рынка соответственно[1]:\n",
    "\n",
    "   $\\beta_a = \\frac {\\mathrm{Cov}(r_a,r_p)}{\\mathrm{Var}(r_p)}$,\n",
    "\n",
    "где r_a — оцениваемая величина, для которой вычисляется коэффициент Бета: доходность оцениваемого актива или портфеля, r_p — эталонная величина, с которой происходит сравнение: доходность портфеля ценных бумаг или рынка,\n",
    "\n",
    "   $\\mathrm{Cov}$ — ковариация оцениваемой и эталонной величины, \n",
    "   $\\mathrm{Var}$ — дисперсия эталонной величины."
   ]
  },
  {
   "cell_type": "markdown",
   "metadata": {},
   "source": [
    "####Основные сведения"
   ]
  },
  {
   "cell_type": "markdown",
   "metadata": {},
   "source": [
    "####Ковариация выборок\n",
    "\n",
    "Пусть X_1, X_2, ... ,X_n, Y_1, Y_2, ... ,Y_n — выборки $X_{(n)}$, $Y_{(n)}$ случайных величин, определённых на одном и том же вероятностном пространстве. Тогда ковариацией между выборками X_{(n)} и Y_{(n)} является:\n",
    "\n",
    "$\\mathrm{cov}(X_{(n)},Y_{(n)}) = \\frac1n\\sum_{t=1}^n \\left(X_t-\\overline{X}\\right)\\left(Y_t-\\overline{Y}\\right)$, где\n",
    "\n",
    "$\\overline{X} = \\frac1n\\sum_{t=1}^n X_t$, \n",
    "\n",
    "$\\overline{Y} = \\frac1n\\sum_{t=1}^n Y_t$ — среднее значение выборок.\n",
    "\n",
    "Очевидно, что\n",
    "\n",
    "$\\mathrm{cov}(X_{(n)},Y_{(n)}) = \\frac1n\\sum_{t=1}^n X_tY_t-\\left(\\frac1n\\sum_{t=1}^nX_t\\right)\\left(\\frac1n\\sum_{t=1}^nY_t\\right)$"
   ]
  },
  {
   "cell_type": "markdown",
   "metadata": {},
   "source": [
    "#####Выборочная дисперсия\n",
    "Выборочная дисперсия — это случайная величина\n",
    "\n",
    "   $\\mathrm{Var}(X_n) = \\sigma^2_x = \\frac{1}{n} \\sum\\limits_{i=1}^n \\left(X_i - \\bar{X} \\right)^2=\\frac{1}{n}\\sum\\limits_{i=1}^nX_i^2-\\left(\\frac{1}{n}\\sum\\limits_{i=1}^nX_i\\right)^2$,\n",
    "\n",
    "где символ $\\bar{X}$ обозначает выборочное среднее."
   ]
  },
  {
   "cell_type": "markdown",
   "metadata": {},
   "source": [
    "#####Среднеквадратическое отклонение\n",
    "Среднеквадратическое отклонение:\n",
    "\n",
    "   $\\sigma_x=\\sqrt{\\frac{1}{n}\\sum_{i=1}^n\\left(x_i-\\bar{x}\\right)^2}$ "
   ]
  },
  {
   "cell_type": "markdown",
   "metadata": {},
   "source": [
    "Среднее квадратическое отклонение доходности портфеля $\\sigma =\\sqrt{D[X]}$ отождествляется с риском портфеля."
   ]
  },
  {
   "cell_type": "markdown",
   "metadata": {},
   "source": [
    "#####Правило трёх сигм\n",
    "Правило трёх сигм $(3\\sigma\\,\\!)$ — практически все значения нормально распределённой случайной величины лежат в интервале $\\left(\\bar{x}-3\\sigma;\\bar{x}+3\\sigma\\right)$. Более строго — приблизительно с 0,9973 вероятностью значение нормально распределённой случайной величины лежит в указанном интервале (при условии, что величина \\bar{x} истинная, а не полученная в результате обработки выборки).\n",
    "\n",
    "Если же истинная величина $\\bar{x}$ неизвестна, то следует пользоваться не \\sigma, а s. Таким образом, правило трёх сигм преобразуется в правило трёх s."
   ]
  },
  {
   "cell_type": "markdown",
   "metadata": {},
   "source": [
    "#####Выборочное среднее\n",
    "Выборочным средним называется случайная величина\n",
    "\n",
    "$\\bar{X} = \\frac{1}{n} \\sum\\limits_{i=1}^n X_i$"
   ]
  },
  {
   "cell_type": "markdown",
   "metadata": {},
   "source": [
    "Если ковариация положительна, то с ростом значений одной случайной величины, значения второй имеют тенденцию возрастать, а если знак отрицательный — то убывать.\n",
    "\n",
    "Однако только по абсолютному значению ковариации нельзя судить о том, насколько сильно величины взаимосвязаны, так как её масштаб зависит от их дисперсий. Масштаб можно отнормировать, поделив значение ковариации на произведение среднеквадратических отклонений (квадратных корней из дисперсий). При этом получается так называемый коэффициент корреляции Пирсона, который всегда находится в интервале от −1 до 1.\n",
    "\n",
    "   $\\mathbf{r}(X,Y) = \\frac{\\mathrm{cov}(X,Y)}{\\sigma X\\sigma Y}$, где $\\sigma$ — среднеквадратическое отклонение.\n",
    "\n",
    "Соответственно,\n",
    "\n",
    "   $\\mathrm{cov}(X,Y) = \\mathbf r(X,Y)\\cdot\\sigma X\\sigma Y$.\n",
    "\n",
    "Случайные величины, имеющие нулевую ковариацию, называются некоррелированными. Независимые случайные величины всегда некоррелированы, но не наоборот."
   ]
  },
  {
   "cell_type": "markdown",
   "metadata": {},
   "source": [
    "#####Коэффициент корреляции\n",
    "Для устранения недостатка ковариации был введён линейный коэффициент корреляции (или коэффициент корреляции Пирсона.\n",
    "Коэффициент корреляции рассчитывается по формуле:\n",
    "\n",
    "$\\mathbf{r}_{XY} = \\frac{\\mathbf{cov}_{XY}}{\\mathbf{\\sigma}_{X}{\\sigma}_{Y}}= \\frac{\\sum (X-\\bar{X})(Y-\\bar{Y})}{\\sqrt{\\sum (X-\\bar{X})^2\\sum (Y-\\bar{Y})^2}}$"
   ]
  },
  {
   "cell_type": "markdown",
   "metadata": {},
   "source": [
    "Линейный коэффициент корреляции связан с коэффициентом регрессии в виде следующей зависимости:\n",
    "\n",
    "$\\mathbf{r}_{XY} = \\beta \\frac{{\\sigma}_{X}}{{\\sigma}_{Y}}$, \n",
    "\n",
    "где $\\mathbf{\\beta}$ — коэффициент регрессии, $\\mathbf\\sigma_{X}$ — среднеквадратическое отклонение соответствующего факторного признака"
   ]
  },
  {
   "cell_type": "markdown",
   "metadata": {},
   "source": [
    "#####Коэффициент регрессии\n",
    "\n",
    "$\\mathbf{\\beta} = \\mathbf{r}_{XY} \\frac{{\\sigma}_{Y}}{{\\sigma}_{X}}$, \n",
    "\n",
    "$\\mathbf{\\beta} = \\frac{\\mathbf{cov}_{XY}}{\\mathbf{\\sigma}_{X}{\\sigma}_{Y}} \\frac{{\\sigma}_{Y}}{{\\sigma}_{X}}$,\n",
    "\n",
    "$\\mathbf{\\beta} = \\frac{\\mathbf{cov}_{XY}}{{\\sigma}_{X} {\\sigma}_{X}}$,\n",
    "\n",
    "$\\mathbf{\\beta} = \\frac{\\mathbf{cov}_{XY}}{\\mathbf{var}_{X}}$"
   ]
  },
  {
   "cell_type": "markdown",
   "metadata": {},
   "source": [
    "$\\mathbf{\\beta} = \\frac{\\mathbf{cov}_{XY}}{\\mathbf{var}_{X}}$, \n",
    "\n",
    "является коэффициентом $\\beta$ в линейной регрессии Y относительно X\n",
    "\n",
    "   $Y = \\alpha + \\beta X$"
   ]
  },
  {
   "cell_type": "markdown",
   "metadata": {},
   "source": [
    "###Итого\n",
    "#####Расчет бета коэффициента"
   ]
  },
  {
   "cell_type": "markdown",
   "metadata": {},
   "source": [
    "Для расчета коэффициента нам нужно посчитать выборочнцю ковариацию и выборочнцю дисперсию"
   ]
  },
  {
   "cell_type": "markdown",
   "metadata": {},
   "source": [
    "#####Выборочная Ковариация\n",
    "$\\mathrm{cov}(X_{(n)},Y_{(n)}) = \\frac1n\\sum_{t=1}^n \\left(X_t-\\overline{X}\\right)\\left(Y_t-\\overline{Y}\\right)$\n",
    "\n",
    "$\\mathrm{cov}(X_{(n)},Y_{(n)}) = \\frac1n\\sum_{t=1}^n X_tY_t-\\left(\\frac1n\\sum_{t=1}^nX_t\\right)\\left(\\frac1n\\sum_{t=1}^nY_t\\right)$"
   ]
  },
  {
   "cell_type": "markdown",
   "metadata": {},
   "source": [
    "#####Выборочная Дисперсия\n",
    "   $\\mathrm{Var}(X_n) = \\sigma^2_x = \\frac{1}{n} \\sum\\limits_{i=1}^n \\left(X_i - \\bar{X} \\right)^2$\n",
    "\n",
    "   $\\mathrm{Var}(X_n) = \\frac{1}{n}\\sum\\limits_{i=1}^nX_i^2-\\left(\\frac{1}{n}\\sum\\limits_{i=1}^nX_i\\right)^2$\n"
   ]
  },
  {
   "cell_type": "markdown",
   "metadata": {},
   "source": [
    "#####Промежуточные вычисления\n",
    "\n",
    "$\\frac1n\\sum_{t=1}^nY_t$\n",
    "\n",
    "$\\frac1n\\sum_{t=1}^nX_t$\n",
    "\n",
    "$\\left(\\frac{1}{n}\\sum\\limits_{i=1}^nX_i\\right)^2$\n",
    "\n",
    "$\\frac{1}{n}\\sum\\limits_{i=1}^nX_i^2$\n",
    "\n",
    "$\\frac1n\\sum_{t=1}^n X_tY_t$"
   ]
  }
 ],
 "metadata": {
  "kernelspec": {
   "display_name": "Python 3",
   "language": "python",
   "name": "python3"
  },
  "language_info": {
   "codemirror_mode": {
    "name": "ipython",
    "version": 3
   },
   "file_extension": ".py",
   "mimetype": "text/x-python",
   "name": "python",
   "nbconvert_exporter": "python",
   "pygments_lexer": "ipython3",
   "version": "3.4.1"
  }
 },
 "nbformat": 4,
 "nbformat_minor": 0
}
